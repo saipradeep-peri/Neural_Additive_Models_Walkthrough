{
 "cells": [
  {
   "cell_type": "code",
   "execution_count": 1,
   "metadata": {
    "id": "b9puLRcQnofZ"
   },
   "outputs": [],
   "source": [
    "import numpy as np\n",
    "import pandas as pd"
   ]
  },
  {
   "cell_type": "code",
   "execution_count": 2,
   "metadata": {
    "id": "4ct1bZg3nepl"
   },
   "outputs": [],
   "source": [
    "from sklearn.model_selection import train_test_split\n",
    "\n",
    "\n",
    "import time\n",
    "\n",
    "import numpy as np\n",
    "import pandas as pd\n",
    "import seaborn as sns\n",
    "import matplotlib.pyplot as plt\n",
    "from pandas.plotting import scatter_matrix\n",
    "\n",
    "from tqdm.notebook import tqdm\n",
    "\n",
    "\n",
    "from sklearn import metrics\n",
    "from sklearn import preprocessing\n",
    "from sklearn.metrics import accuracy_score, confusion_matrix, classification_report, roc_auc_score\n",
    "\n",
    "\n",
    "\n",
    "from xgboost import XGBClassifier"
   ]
  },
  {
   "cell_type": "code",
   "execution_count": 3,
   "metadata": {
    "id": "n0_BQ0Elnq-d"
   },
   "outputs": [],
   "source": [
    "# filter dplyr warnings\n",
    "%load_ext rpy2.ipython\n",
    "import warnings\n",
    "warnings.filterwarnings('ignore')"
   ]
  },
  {
   "cell_type": "code",
   "execution_count": 4,
   "metadata": {
    "colab": {
     "base_uri": "https://localhost:8080/"
    },
    "id": "JQ0JIetsnuvJ",
    "outputId": "107baf77-3c9a-479a-fe1e-19db2cb580e7"
   },
   "outputs": [
    {
     "name": "stderr",
     "output_type": "stream",
     "text": [
      "R[write to console]: \n",
      "Attaching package: ‘dplyr’\n",
      "\n",
      "\n",
      "R[write to console]: The following objects are masked from ‘package:stats’:\n",
      "\n",
      "    filter, lag\n",
      "\n",
      "\n",
      "R[write to console]: The following objects are masked from ‘package:base’:\n",
      "\n",
      "    intersect, setdiff, setequal, union\n",
      "\n",
      "\n"
     ]
    },
    {
     "name": "stdout",
     "output_type": "stream",
     "text": [
      "[1] 7214\n"
     ]
    }
   ],
   "source": [
    "%%R\n",
    "library(dplyr)\n",
    "library(ggplot2)\n",
    "library(grid)\n",
    "raw_data <- read.csv(\"https://raw.githubusercontent.com/propublica/compas-analysis/master/compas-scores-two-years.csv\")\n",
    "nrow(raw_data)"
   ]
  },
  {
   "cell_type": "code",
   "execution_count": 10,
   "metadata": {
    "colab": {
     "base_uri": "https://localhost:8080/"
    },
    "id": "-Z0hzQIMnwiz",
    "outputId": "ea453f8f-9782-4d58-ec04-08cb6e5b676d"
   },
   "outputs": [
    {
     "name": "stdout",
     "output_type": "stream",
     "text": [
      "[1] 6172\n"
     ]
    }
   ],
   "source": [
    "%%R\n",
    "df <- dplyr::select(raw_data, age, c_charge_degree, race, age_cat, score_text, sex, priors_count, \n",
    "                    days_b_screening_arrest, decile_score, is_recid, two_year_recid, c_jail_in, c_jail_out) %>% \n",
    "        filter(days_b_screening_arrest <= 30) %>%\n",
    "        filter(days_b_screening_arrest >= -30) %>%\n",
    "        filter(is_recid != -1) %>%\n",
    "        filter(c_charge_degree != \"O\") %>%\n",
    "        filter(score_text != 'N/A')\n",
    "nrow(df)"
   ]
  },
  {
   "cell_type": "code",
   "execution_count": 11,
   "metadata": {
    "id": "-gd2Y5ZWnyvr"
   },
   "outputs": [],
   "source": [
    "%%R\n",
    "df$length_of_stay <- as.numeric(as.Date(df$c_jail_out) - as.Date(df$c_jail_in))"
   ]
  },
  {
   "cell_type": "code",
   "execution_count": 12,
   "metadata": {
    "id": "qbUTs87In0fT"
   },
   "outputs": [],
   "source": [
    "%%R\n",
    "df <- mutate(df, crime_factor = factor(c_charge_degree)) %>%\n",
    "      mutate(age_factor = as.factor(age_cat)) %>%\n",
    "      within(age_factor <- relevel(age_factor, ref = 1)) %>%\n",
    "      mutate(race_factor = factor(race)) %>%\n",
    "      within(race_factor <- relevel(race_factor, ref = 3)) %>%\n",
    "      mutate(gender_factor = factor(sex, labels= c(\"Female\",\"Male\"))) %>%\n",
    "      within(gender_factor <- relevel(gender_factor, ref = 2)) %>%\n",
    "      mutate(score_factor = factor(score_text != \"Low\", labels = c(\"LowScore\",\"HighScore\")))\n",
    "\n",
    "df <- df %>% select('age', 'race_factor', 'gender_factor', 'score_factor', 'priors_count', 'length_of_stay', 'crime_factor')"
   ]
  },
  {
   "cell_type": "code",
   "execution_count": 13,
   "metadata": {
    "colab": {
     "base_uri": "https://localhost:8080/"
    },
    "id": "jJXWH_JToAWi",
    "outputId": "a89860a6-1b68-4beb-a51f-488ca55d2a65"
   },
   "outputs": [
    {
     "name": "stdout",
     "output_type": "stream",
     "text": [
      ".\n",
      "       Caucasian African-American            Asian         Hispanic \n",
      "      34.0732340       51.4419961        0.5022683        8.2469216 \n",
      " Native American            Other \n",
      "       0.1782242        5.5573558 \n"
     ]
    }
   ],
   "source": [
    "%%R\n",
    "df$race %>% table() %>% prop.table()*100"
   ]
  },
  {
   "cell_type": "code",
   "execution_count": 14,
   "metadata": {
    "colab": {
     "base_uri": "https://localhost:8080/"
    },
    "id": "4zss8lU0oZkX",
    "outputId": "41c79263-a6c0-476b-e086-77de8e9ee093"
   },
   "outputs": [
    {
     "name": "stdout",
     "output_type": "stream",
     "text": [
      "        \n",
      ".        Caucasian African-American Asian Hispanic Native American Other\n",
      "  Male        1621             2626    29      427               9   285\n",
      "  Female       482              549     2       82               2    58\n"
     ]
    }
   ],
   "source": [
    "%%R\n",
    "df$gender_factor %>% table(df$race)"
   ]
  },
  {
   "cell_type": "code",
   "execution_count": 15,
   "metadata": {
    "id": "TxYDwZbKn8Zv"
   },
   "outputs": [],
   "source": [
    "compas_df = %R df"
   ]
  },
  {
   "cell_type": "code",
   "execution_count": 16,
   "metadata": {
    "colab": {
     "base_uri": "https://localhost:8080/",
     "height": 204
    },
    "id": "HxEWlrDPn-GP",
    "outputId": "86a0227c-7847-470f-83e2-9acb6aaddee9"
   },
   "outputs": [
    {
     "data": {
      "text/html": [
       "<div>\n",
       "<style scoped>\n",
       "    .dataframe tbody tr th:only-of-type {\n",
       "        vertical-align: middle;\n",
       "    }\n",
       "\n",
       "    .dataframe tbody tr th {\n",
       "        vertical-align: top;\n",
       "    }\n",
       "\n",
       "    .dataframe thead th {\n",
       "        text-align: right;\n",
       "    }\n",
       "</style>\n",
       "<table border=\"1\" class=\"dataframe\">\n",
       "  <thead>\n",
       "    <tr style=\"text-align: right;\">\n",
       "      <th></th>\n",
       "      <th>age</th>\n",
       "      <th>race_factor</th>\n",
       "      <th>gender_factor</th>\n",
       "      <th>score_factor</th>\n",
       "      <th>priors_count</th>\n",
       "      <th>length_of_stay</th>\n",
       "      <th>crime_factor</th>\n",
       "    </tr>\n",
       "  </thead>\n",
       "  <tbody>\n",
       "    <tr>\n",
       "      <th>1</th>\n",
       "      <td>69</td>\n",
       "      <td>Other</td>\n",
       "      <td>Male</td>\n",
       "      <td>LowScore</td>\n",
       "      <td>0</td>\n",
       "      <td>1.0</td>\n",
       "      <td>F</td>\n",
       "    </tr>\n",
       "    <tr>\n",
       "      <th>2</th>\n",
       "      <td>34</td>\n",
       "      <td>African-American</td>\n",
       "      <td>Male</td>\n",
       "      <td>LowScore</td>\n",
       "      <td>0</td>\n",
       "      <td>10.0</td>\n",
       "      <td>F</td>\n",
       "    </tr>\n",
       "    <tr>\n",
       "      <th>3</th>\n",
       "      <td>24</td>\n",
       "      <td>African-American</td>\n",
       "      <td>Male</td>\n",
       "      <td>LowScore</td>\n",
       "      <td>4</td>\n",
       "      <td>1.0</td>\n",
       "      <td>F</td>\n",
       "    </tr>\n",
       "    <tr>\n",
       "      <th>4</th>\n",
       "      <td>44</td>\n",
       "      <td>Other</td>\n",
       "      <td>Male</td>\n",
       "      <td>LowScore</td>\n",
       "      <td>0</td>\n",
       "      <td>1.0</td>\n",
       "      <td>M</td>\n",
       "    </tr>\n",
       "    <tr>\n",
       "      <th>5</th>\n",
       "      <td>41</td>\n",
       "      <td>Caucasian</td>\n",
       "      <td>Male</td>\n",
       "      <td>HighScore</td>\n",
       "      <td>14</td>\n",
       "      <td>6.0</td>\n",
       "      <td>F</td>\n",
       "    </tr>\n",
       "  </tbody>\n",
       "</table>\n",
       "</div>"
      ],
      "text/plain": [
       "   age       race_factor  ... length_of_stay crime_factor\n",
       "1   69             Other  ...            1.0            F\n",
       "2   34  African-American  ...           10.0            F\n",
       "3   24  African-American  ...            1.0            F\n",
       "4   44             Other  ...            1.0            M\n",
       "5   41         Caucasian  ...            6.0            F\n",
       "\n",
       "[5 rows x 7 columns]"
      ]
     },
     "execution_count": 16,
     "metadata": {
      "tags": []
     },
     "output_type": "execute_result"
    }
   ],
   "source": [
    "compas_df.head()"
   ]
  },
  {
   "cell_type": "code",
   "execution_count": 17,
   "metadata": {
    "colab": {
     "base_uri": "https://localhost:8080/",
     "height": 693
    },
    "id": "ZrFNO8gZovmW",
    "outputId": "df742ba3-6ffc-423f-e0d0-805510a67f55"
   },
   "outputs": [
    {
     "data": {
      "text/plain": [
       "array([[<matplotlib.axes._subplots.AxesSubplot object at 0x7fde7d57f310>,\n",
       "        <matplotlib.axes._subplots.AxesSubplot object at 0x7fde5ae2c2d0>],\n",
       "       [<matplotlib.axes._subplots.AxesSubplot object at 0x7fde5addf950>,\n",
       "        <matplotlib.axes._subplots.AxesSubplot object at 0x7fde5ad7fcd0>]],\n",
       "      dtype=object)"
      ]
     },
     "execution_count": 17,
     "metadata": {
      "tags": []
     },
     "output_type": "execute_result"
    },
    {
     "data": {
      "image/png": "[encoded data removed]",
      "text/plain": [
       "<Figure size 720x720 with 4 Axes>"
      ]
     },
     "metadata": {
      "needs_background": "light",
      "tags": []
     },
     "output_type": "display_data"
    }
   ],
   "source": [
    "compas_df.hist(figsize=(10,10))"
   ]
  },
  {
   "cell_type": "code",
   "execution_count": 18,
   "metadata": {
    "colab": {
     "base_uri": "https://localhost:8080/",
     "height": 331
    },
    "id": "TP7ZZQ1No2fp",
    "outputId": "d4447764-ffdb-401a-9502-9b66ff321afc"
   },
   "outputs": [
    {
     "data": {
      "text/plain": [
       "<matplotlib.axes._subplots.AxesSubplot at 0x7fde5a7bdd50>"
      ]
     },
     "execution_count": 18,
     "metadata": {
      "tags": []
     },
     "output_type": "execute_result"
    },
    {
     "data": {
      "image/png": "[encoded data removed]",
      "text/plain": [
       "<Figure size 360x360 with 2 Axes>"
      ]
     },
     "metadata": {
      "needs_background": "light",
      "tags": []
     },
     "output_type": "display_data"
    }
   ],
   "source": [
    "corr = compas_df.corr()\n",
    "f, ax = plt.subplots(figsize=(5, 5))\n",
    "cmap = sns.diverging_palette(2000, 13, as_cmap=True)\n",
    "sns.heatmap(corr, cmap=cmap, center=0,square=True, linewidths=.5)"
   ]
  },
  {
   "cell_type": "code",
   "execution_count": 19,
   "metadata": {
    "colab": {
     "base_uri": "https://localhost:8080/",
     "height": 567
    },
    "id": "EpSLJCHBpOjj",
    "outputId": "36b2fee5-c8f2-4e9d-f816-de6830e73e54"
   },
   "outputs": [
    {
     "data": {
      "text/plain": [
       "<seaborn.axisgrid.PairGrid at 0x7fde5a70d150>"
      ]
     },
     "execution_count": 19,
     "metadata": {
      "tags": []
     },
     "output_type": "execute_result"
    },
    {
     "data": {
      "image/png": "[encoded data removed]",
      "text/plain": [
       "<Figure size 626.875x540 with 12 Axes>"
      ]
     },
     "metadata": {
      "needs_background": "light",
      "tags": []
     },
     "output_type": "display_data"
    }
   ],
   "source": [
    "sns.pairplot(compas_df[:1000], hue = 'score_factor')"
   ]
  },
  {
   "cell_type": "code",
   "execution_count": 23,
   "metadata": {
    "id": "eOCxiDYrn_0k"
   },
   "outputs": [],
   "source": [
    "cat_features = ['race_factor','gender_factor', 'crime_factor']\n",
    "numeric_features = ['age','priors_count', 'length_of_stay']\n",
    "target_feature = [\"score_factor\"]"
   ]
  },
  {
   "cell_type": "code",
   "execution_count": 24,
   "metadata": {
    "id": "K_4DBNxZ0dTW"
   },
   "outputs": [],
   "source": [
    "dummies_race = pd.get_dummies(compas_df['race_factor'], prefix = 'race')\n",
    "\n",
    "dummies_gender = pd.get_dummies(compas_df['gender_factor'], prefix = 'gender')\n",
    "\n",
    "dummies_crime_factor = pd.get_dummies(compas_df['crime_factor'], prefix='crime_factor')\n",
    "\n",
    "processed_data = pd.concat([dummies_race, dummies_gender, dummies_crime_factor, compas_df[numeric_features], compas_df[target_feature]], axis = 1)"
   ]
  },
  {
   "cell_type": "code",
   "execution_count": 25,
   "metadata": {
    "id": "AEyL-Naf0dQh"
   },
   "outputs": [],
   "source": [
    "processed_data['score_factor'] = processed_data['score_factor'].astype('category').cat.codes.values"
   ]
  },
  {
   "cell_type": "code",
   "execution_count": 26,
   "metadata": {
    "colab": {
     "base_uri": "https://localhost:8080/",
     "height": 456
    },
    "id": "HawWN-nb3SsT",
    "outputId": "5d9688ac-c3a5-4cd8-c774-33546cd2a077"
   },
   "outputs": [
    {
     "data": {
      "text/html": [
       "<div>\n",
       "<style scoped>\n",
       "    .dataframe tbody tr th:only-of-type {\n",
       "        vertical-align: middle;\n",
       "    }\n",
       "\n",
       "    .dataframe tbody tr th {\n",
       "        vertical-align: top;\n",
       "    }\n",
       "\n",
       "    .dataframe thead th {\n",
       "        text-align: right;\n",
       "    }\n",
       "</style>\n",
       "<table border=\"1\" class=\"dataframe\">\n",
       "  <thead>\n",
       "    <tr style=\"text-align: right;\">\n",
       "      <th></th>\n",
       "      <th>race_Caucasian</th>\n",
       "      <th>race_African-American</th>\n",
       "      <th>race_Asian</th>\n",
       "      <th>race_Hispanic</th>\n",
       "      <th>race_Native American</th>\n",
       "      <th>race_Other</th>\n",
       "      <th>gender_Male</th>\n",
       "      <th>gender_Female</th>\n",
       "      <th>crime_factor_F</th>\n",
       "      <th>crime_factor_M</th>\n",
       "      <th>age</th>\n",
       "      <th>priors_count</th>\n",
       "      <th>length_of_stay</th>\n",
       "      <th>score_factor</th>\n",
       "    </tr>\n",
       "  </thead>\n",
       "  <tbody>\n",
       "    <tr>\n",
       "      <th>1</th>\n",
       "      <td>0</td>\n",
       "      <td>0</td>\n",
       "      <td>0</td>\n",
       "      <td>0</td>\n",
       "      <td>0</td>\n",
       "      <td>1</td>\n",
       "      <td>1</td>\n",
       "      <td>0</td>\n",
       "      <td>1</td>\n",
       "      <td>0</td>\n",
       "      <td>69</td>\n",
       "      <td>0</td>\n",
       "      <td>1.0</td>\n",
       "      <td>0</td>\n",
       "    </tr>\n",
       "    <tr>\n",
       "      <th>2</th>\n",
       "      <td>0</td>\n",
       "      <td>1</td>\n",
       "      <td>0</td>\n",
       "      <td>0</td>\n",
       "      <td>0</td>\n",
       "      <td>0</td>\n",
       "      <td>1</td>\n",
       "      <td>0</td>\n",
       "      <td>1</td>\n",
       "      <td>0</td>\n",
       "      <td>34</td>\n",
       "      <td>0</td>\n",
       "      <td>10.0</td>\n",
       "      <td>0</td>\n",
       "    </tr>\n",
       "    <tr>\n",
       "      <th>3</th>\n",
       "      <td>0</td>\n",
       "      <td>1</td>\n",
       "      <td>0</td>\n",
       "      <td>0</td>\n",
       "      <td>0</td>\n",
       "      <td>0</td>\n",
       "      <td>1</td>\n",
       "      <td>0</td>\n",
       "      <td>1</td>\n",
       "      <td>0</td>\n",
       "      <td>24</td>\n",
       "      <td>4</td>\n",
       "      <td>1.0</td>\n",
       "      <td>0</td>\n",
       "    </tr>\n",
       "    <tr>\n",
       "      <th>4</th>\n",
       "      <td>0</td>\n",
       "      <td>0</td>\n",
       "      <td>0</td>\n",
       "      <td>0</td>\n",
       "      <td>0</td>\n",
       "      <td>1</td>\n",
       "      <td>1</td>\n",
       "      <td>0</td>\n",
       "      <td>0</td>\n",
       "      <td>1</td>\n",
       "      <td>44</td>\n",
       "      <td>0</td>\n",
       "      <td>1.0</td>\n",
       "      <td>0</td>\n",
       "    </tr>\n",
       "    <tr>\n",
       "      <th>5</th>\n",
       "      <td>1</td>\n",
       "      <td>0</td>\n",
       "      <td>0</td>\n",
       "      <td>0</td>\n",
       "      <td>0</td>\n",
       "      <td>0</td>\n",
       "      <td>1</td>\n",
       "      <td>0</td>\n",
       "      <td>1</td>\n",
       "      <td>0</td>\n",
       "      <td>41</td>\n",
       "      <td>14</td>\n",
       "      <td>6.0</td>\n",
       "      <td>1</td>\n",
       "    </tr>\n",
       "    <tr>\n",
       "      <th>...</th>\n",
       "      <td>...</td>\n",
       "      <td>...</td>\n",
       "      <td>...</td>\n",
       "      <td>...</td>\n",
       "      <td>...</td>\n",
       "      <td>...</td>\n",
       "      <td>...</td>\n",
       "      <td>...</td>\n",
       "      <td>...</td>\n",
       "      <td>...</td>\n",
       "      <td>...</td>\n",
       "      <td>...</td>\n",
       "      <td>...</td>\n",
       "      <td>...</td>\n",
       "    </tr>\n",
       "    <tr>\n",
       "      <th>6168</th>\n",
       "      <td>0</td>\n",
       "      <td>1</td>\n",
       "      <td>0</td>\n",
       "      <td>0</td>\n",
       "      <td>0</td>\n",
       "      <td>0</td>\n",
       "      <td>1</td>\n",
       "      <td>0</td>\n",
       "      <td>1</td>\n",
       "      <td>0</td>\n",
       "      <td>23</td>\n",
       "      <td>0</td>\n",
       "      <td>2.0</td>\n",
       "      <td>1</td>\n",
       "    </tr>\n",
       "    <tr>\n",
       "      <th>6169</th>\n",
       "      <td>0</td>\n",
       "      <td>1</td>\n",
       "      <td>0</td>\n",
       "      <td>0</td>\n",
       "      <td>0</td>\n",
       "      <td>0</td>\n",
       "      <td>1</td>\n",
       "      <td>0</td>\n",
       "      <td>1</td>\n",
       "      <td>0</td>\n",
       "      <td>23</td>\n",
       "      <td>0</td>\n",
       "      <td>2.0</td>\n",
       "      <td>0</td>\n",
       "    </tr>\n",
       "    <tr>\n",
       "      <th>6170</th>\n",
       "      <td>0</td>\n",
       "      <td>0</td>\n",
       "      <td>0</td>\n",
       "      <td>0</td>\n",
       "      <td>0</td>\n",
       "      <td>1</td>\n",
       "      <td>1</td>\n",
       "      <td>0</td>\n",
       "      <td>1</td>\n",
       "      <td>0</td>\n",
       "      <td>57</td>\n",
       "      <td>0</td>\n",
       "      <td>1.0</td>\n",
       "      <td>0</td>\n",
       "    </tr>\n",
       "    <tr>\n",
       "      <th>6171</th>\n",
       "      <td>0</td>\n",
       "      <td>1</td>\n",
       "      <td>0</td>\n",
       "      <td>0</td>\n",
       "      <td>0</td>\n",
       "      <td>0</td>\n",
       "      <td>0</td>\n",
       "      <td>1</td>\n",
       "      <td>0</td>\n",
       "      <td>1</td>\n",
       "      <td>33</td>\n",
       "      <td>3</td>\n",
       "      <td>1.0</td>\n",
       "      <td>0</td>\n",
       "    </tr>\n",
       "    <tr>\n",
       "      <th>6172</th>\n",
       "      <td>0</td>\n",
       "      <td>0</td>\n",
       "      <td>0</td>\n",
       "      <td>1</td>\n",
       "      <td>0</td>\n",
       "      <td>0</td>\n",
       "      <td>0</td>\n",
       "      <td>1</td>\n",
       "      <td>1</td>\n",
       "      <td>0</td>\n",
       "      <td>23</td>\n",
       "      <td>2</td>\n",
       "      <td>2.0</td>\n",
       "      <td>0</td>\n",
       "    </tr>\n",
       "  </tbody>\n",
       "</table>\n",
       "<p>6172 rows × 14 columns</p>\n",
       "</div>"
      ],
      "text/plain": [
       "      race_Caucasian  race_African-American  ...  length_of_stay  score_factor\n",
       "1                  0                      0  ...             1.0             0\n",
       "2                  0                      1  ...            10.0             0\n",
       "3                  0                      1  ...             1.0             0\n",
       "4                  0                      0  ...             1.0             0\n",
       "5                  1                      0  ...             6.0             1\n",
       "...              ...                    ...  ...             ...           ...\n",
       "6168               0                      1  ...             2.0             1\n",
       "6169               0                      1  ...             2.0             0\n",
       "6170               0                      0  ...             1.0             0\n",
       "6171               0                      1  ...             1.0             0\n",
       "6172               0                      0  ...             2.0             0\n",
       "\n",
       "[6172 rows x 14 columns]"
      ]
     },
     "execution_count": 26,
     "metadata": {
      "tags": []
     },
     "output_type": "execute_result"
    }
   ],
   "source": [
    "processed_data"
   ]
  },
  {
   "cell_type": "code",
   "execution_count": 27,
   "metadata": {
    "id": "31Dw04EZoGS9"
   },
   "outputs": [],
   "source": [
    "x = processed_data.drop('score_factor', axis=1)\n",
    "y = processed_data[['score_factor']]"
   ]
  },
  {
   "cell_type": "code",
   "execution_count": 28,
   "metadata": {
    "id": "1miYBHbnoJfp"
   },
   "outputs": [],
   "source": [
    "x_train, x_test, y_train, y_test = train_test_split(x, y, test_size=0.2, random_state=2137)"
   ]
  },
  {
   "cell_type": "code",
   "execution_count": 29,
   "metadata": {
    "id": "tTr3nCJ_xNQ3"
   },
   "outputs": [],
   "source": [
    "from sklearn.tree import DecisionTreeClassifier"
   ]
  },
  {
   "cell_type": "code",
   "execution_count": 126,
   "metadata": {
    "id": "6AwqImX0xFNJ"
   },
   "outputs": [],
   "source": [
    "decision_tree_model = DecisionTreeClassifier(criterion = \"entropy\",random_state = 100, max_depth=50, max_features=5, max_leaf_nodes=3)"
   ]
  },
  {
   "cell_type": "code",
   "execution_count": 127,
   "metadata": {
    "colab": {
     "base_uri": "https://localhost:8080/"
    },
    "id": "hdXiM8EpxFKb",
    "outputId": "5bb27554-ea46-490a-ab18-021c55d2e345"
   },
   "outputs": [
    {
     "data": {
      "text/plain": [
       "DecisionTreeClassifier(ccp_alpha=0.0, class_weight=None, criterion='entropy',\n",
       "                       max_depth=50, max_features=5, max_leaf_nodes=3,\n",
       "                       min_impurity_decrease=0.0, min_impurity_split=None,\n",
       "                       min_samples_leaf=1, min_samples_split=2,\n",
       "                       min_weight_fraction_leaf=0.0, presort='deprecated',\n",
       "                       random_state=100, splitter='best')"
      ]
     },
     "execution_count": 127,
     "metadata": {
      "tags": []
     },
     "output_type": "execute_result"
    }
   ],
   "source": [
    "decision_tree_model.fit(x_train, y_train)"
   ]
  },
  {
   "cell_type": "code",
   "execution_count": 128,
   "metadata": {
    "id": "zHGWw1wUx25Z"
   },
   "outputs": [],
   "source": [
    "def cal_accuracy(y_test, y_pred):\n",
    "    print(\"Confusion Matrix: \", confusion_matrix(y_test, y_pred))\n",
    "    print(\"Accuracy : \", accuracy_score(y_test,y_pred)*100)\n",
    "    print(\"Report : \", classification_report(y_test, y_pred))\n",
    "    print(\"AUC : \", roc_auc_score(y_test, y_pred))"
   ]
  },
  {
   "cell_type": "code",
   "execution_count": 129,
   "metadata": {
    "colab": {
     "base_uri": "https://localhost:8080/"
    },
    "id": "nmQ_zAPDxtm6",
    "outputId": "6f0564a5-7c60-4972-ccee-837e77b93cdc"
   },
   "outputs": [
    {
     "name": "stdout",
     "output_type": "stream",
     "text": [
      "Confusion Matrix:  [[464 234]\n",
      " [106 431]]\n",
      "Accuracy :  72.46963562753037\n",
      "Report :                precision    recall  f1-score   support\n",
      "\n",
      "           0       0.81      0.66      0.73       698\n",
      "           1       0.65      0.80      0.72       537\n",
      "\n",
      "    accuracy                           0.72      1235\n",
      "   macro avg       0.73      0.73      0.72      1235\n",
      "weighted avg       0.74      0.72      0.73      1235\n",
      "\n",
      "AUC :  0.7336817616707485\n"
     ]
    }
   ],
   "source": [
    "y_pred_DT = decision_tree_model.predict(x_test)\n",
    "cal_accuracy(y_test, y_pred_DT)"
   ]
  },
  {
   "cell_type": "code",
   "execution_count": 130,
   "metadata": {
    "id": "AJ8QNTJU3pK1"
   },
   "outputs": [],
   "source": [
    "feature_columns = list(x_train.columns)"
   ]
  },
  {
   "cell_type": "code",
   "execution_count": 35,
   "metadata": {
    "id": "5f8g12cO45d1"
   },
   "outputs": [],
   "source": [
    "DT_importance = decision_tree_model.feature_importances_"
   ]
  },
  {
   "cell_type": "code",
   "execution_count": 36,
   "metadata": {
    "colab": {
     "base_uri": "https://localhost:8080/",
     "height": 486
    },
    "id": "a4ONc4ploMhE",
    "outputId": "20ce1354-af06-4eed-dacd-4fcb73ba60b1"
   },
   "outputs": [
    {
     "name": "stdout",
     "output_type": "stream",
     "text": [
      "Feature: race_Caucasian, 0, Score: 0.01552\n",
      "Feature: race_African-American, 1, Score: 0.01955\n",
      "Feature: race_Asian, 2, Score: 0.00087\n",
      "Feature: race_Hispanic, 3, Score: 0.01249\n",
      "Feature: race_Native American, 4, Score: 0.00125\n",
      "Feature: race_Other, 5, Score: 0.01869\n",
      "Feature: gender_Male, 6, Score: 0.01248\n",
      "Feature: gender_Female, 7, Score: 0.01164\n",
      "Feature: crime_factor_F, 8, Score: 0.01090\n",
      "Feature: crime_factor_M, 9, Score: 0.00752\n",
      "Feature: age, 10, Score: 0.39362\n",
      "Feature: priors_count, 11, Score: 0.25310\n",
      "Feature: length_of_stay, 12, Score: 0.24237\n"
     ]
    },
    {
     "data": {
      "image/png": "[encoded data removed]",
      "text/plain": [
       "<Figure size 432x288 with 1 Axes>"
      ]
     },
     "metadata": {
      "needs_background": "light",
      "tags": []
     },
     "output_type": "display_data"
    }
   ],
   "source": [
    "for i,v in enumerate(DT_importance):\n",
    "\tprint('Feature: %s, %0d, Score: %.5f' % (feature_columns[i], i,v))\n",
    "# plot feature importance\n",
    "plt.bar([x for x in range(len(DT_importance))], DT_importance)\n",
    "plt.show()"
   ]
  },
  {
   "cell_type": "code",
   "execution_count": 36,
   "metadata": {
    "id": "bDjlZLzF41On"
   },
   "outputs": [],
   "source": []
  },
  {
   "cell_type": "code",
   "execution_count": 37,
   "metadata": {
    "id": "O7_6zJx9puz5"
   },
   "outputs": [],
   "source": [
    "from sklearn.linear_model import LogisticRegression"
   ]
  },
  {
   "cell_type": "code",
   "execution_count": 148,
   "metadata": {
    "id": "LwPJCyuKpvKq"
   },
   "outputs": [],
   "source": [
    "LR_model = LogisticRegression(penalty='l2')"
   ]
  },
  {
   "cell_type": "code",
   "execution_count": 149,
   "metadata": {
    "colab": {
     "base_uri": "https://localhost:8080/"
    },
    "id": "2N0SEny4px2n",
    "outputId": "85fc2893-c1cf-49ca-ae4f-5aad2cb6c7e4"
   },
   "outputs": [
    {
     "data": {
      "text/plain": [
       "LogisticRegression(C=1.0, class_weight=None, dual=False, fit_intercept=True,\n",
       "                   intercept_scaling=1, l1_ratio=None, max_iter=100,\n",
       "                   multi_class='auto', n_jobs=None, penalty='l2',\n",
       "                   random_state=None, solver='lbfgs', tol=0.0001, verbose=0,\n",
       "                   warm_start=False)"
      ]
     },
     "execution_count": 149,
     "metadata": {
      "tags": []
     },
     "output_type": "execute_result"
    }
   ],
   "source": [
    "LR_model.fit(x_train, y_train)"
   ]
  },
  {
   "cell_type": "code",
   "execution_count": 150,
   "metadata": {
    "id": "WIf4nr3gp37q"
   },
   "outputs": [],
   "source": [
    "y_pred = LR_model.predict(x_test)"
   ]
  },
  {
   "cell_type": "code",
   "execution_count": 152,
   "metadata": {
    "colab": {
     "base_uri": "https://localhost:8080/"
    },
    "id": "Vk-wm3ZuisQ-",
    "outputId": "df8e8cd5-0a45-4cad-9dc0-525842f83131"
   },
   "outputs": [
    {
     "name": "stdout",
     "output_type": "stream",
     "text": [
      "Confusion Matrix:  [[566 132]\n",
      " [160 377]]\n",
      "Accuracy :  76.35627530364373\n",
      "Report :                precision    recall  f1-score   support\n",
      "\n",
      "           0       0.78      0.81      0.79       698\n",
      "           1       0.74      0.70      0.72       537\n",
      "\n",
      "    accuracy                           0.76      1235\n",
      "   macro avg       0.76      0.76      0.76      1235\n",
      "weighted avg       0.76      0.76      0.76      1235\n",
      "\n",
      "AUC :  0.7564683346406065\n"
     ]
    }
   ],
   "source": [
    "cal_accuracy(y_test, y_pred)"
   ]
  },
  {
   "cell_type": "code",
   "execution_count": 42,
   "metadata": {
    "id": "99omM2x2qN_l"
   },
   "outputs": [],
   "source": [
    "from sklearn import metrics"
   ]
  },
  {
   "cell_type": "code",
   "execution_count": 43,
   "metadata": {
    "colab": {
     "base_uri": "https://localhost:8080/"
    },
    "id": "E0zHOO_KqcFZ",
    "outputId": "c7c4b146-2e68-48fb-e320-8317488e4ce0"
   },
   "outputs": [
    {
     "name": "stdout",
     "output_type": "stream",
     "text": [
      "              precision    recall  f1-score   support\n",
      "\n",
      "           0       0.78      0.81      0.79       698\n",
      "           1       0.74      0.70      0.72       537\n",
      "\n",
      "    accuracy                           0.76      1235\n",
      "   macro avg       0.76      0.76      0.76      1235\n",
      "weighted avg       0.76      0.76      0.76      1235\n",
      "\n"
     ]
    }
   ],
   "source": [
    "print(metrics.classification_report(y_test,y_pred))"
   ]
  },
  {
   "cell_type": "code",
   "execution_count": 44,
   "metadata": {
    "colab": {
     "base_uri": "https://localhost:8080/"
    },
    "id": "i-g_mFm7qLHF",
    "outputId": "4d533672-a390-4fc6-f134-4f49b9efb89f"
   },
   "outputs": [
    {
     "name": "stdout",
     "output_type": "stream",
     "text": [
      "[[566 132]\n",
      " [160 377]]\n"
     ]
    }
   ],
   "source": [
    "cm = metrics.confusion_matrix(y_test, y_pred)\n",
    "print(cm)"
   ]
  },
  {
   "cell_type": "code",
   "execution_count": 45,
   "metadata": {
    "id": "-PxlzL_L0J2j"
   },
   "outputs": [],
   "source": [
    "importance = LR_model.coef_"
   ]
  },
  {
   "cell_type": "code",
   "execution_count": 46,
   "metadata": {
    "colab": {
     "base_uri": "https://localhost:8080/"
    },
    "id": "ehz3yXZW0Lmt",
    "outputId": "ccc1d360-b0af-47da-c3aa-14c7b5be02a4"
   },
   "outputs": [
    {
     "data": {
      "text/plain": [
       "array([ 0.27510915,  0.69329158,  0.13989449, -0.11519113,  0.29604898,\n",
       "       -0.58481582,  0.289183  ,  0.41515424,  0.53051006,  0.17382718,\n",
       "       -0.09294691,  0.28042305,  0.00896677])"
      ]
     },
     "execution_count": 46,
     "metadata": {
      "tags": []
     },
     "output_type": "execute_result"
    }
   ],
   "source": [
    "importance[0]"
   ]
  },
  {
   "cell_type": "code",
   "execution_count": 47,
   "metadata": {
    "colab": {
     "base_uri": "https://localhost:8080/",
     "height": 486
    },
    "id": "bqs31HzQqLEu",
    "outputId": "01f7beb8-0452-4219-afa0-bf55b5283e76"
   },
   "outputs": [
    {
     "name": "stdout",
     "output_type": "stream",
     "text": [
      "Feature: race_Caucasian, Score: 0.27511\n",
      "Feature: race_African-American, Score: 0.69329\n",
      "Feature: race_Asian, Score: 0.13989\n",
      "Feature: race_Hispanic, Score: -0.11519\n",
      "Feature: race_Native American, Score: 0.29605\n",
      "Feature: race_Other, Score: -0.58482\n",
      "Feature: gender_Male, Score: 0.28918\n",
      "Feature: gender_Female, Score: 0.41515\n",
      "Feature: crime_factor_F, Score: 0.53051\n",
      "Feature: crime_factor_M, Score: 0.17383\n",
      "Feature: age, Score: -0.09295\n",
      "Feature: priors_count, Score: 0.28042\n",
      "Feature: length_of_stay, Score: 0.00897\n"
     ]
    },
    {
     "data": {
      "image/png": "[encoded data removed]",
      "text/plain": [
       "<Figure size 432x288 with 1 Axes>"
      ]
     },
     "metadata": {
      "needs_background": "light",
      "tags": []
     },
     "output_type": "display_data"
    }
   ],
   "source": [
    "\n",
    "# summarize feature importance\n",
    "for i,v in enumerate(importance[0]):\n",
    "\tprint('Feature: %s, Score: %.5f' % (feature_columns[i],v))\n",
    "# plot feature importance\n",
    "plt.bar([x for x in range(len(importance[0]))], importance[0])\n",
    "plt.show()"
   ]
  },
  {
   "cell_type": "code",
   "execution_count": 47,
   "metadata": {
    "id": "VSVfypiC0HKv"
   },
   "outputs": [],
   "source": []
  },
  {
   "cell_type": "code",
   "execution_count": 47,
   "metadata": {
    "id": "uUfpXjc-7YUG"
   },
   "outputs": [],
   "source": []
  },
  {
   "cell_type": "code",
   "execution_count": 48,
   "metadata": {
    "id": "lUsK1qGI7YQ5"
   },
   "outputs": [],
   "source": [
    "import xgboost as xgb"
   ]
  },
  {
   "cell_type": "code",
   "execution_count": 49,
   "metadata": {
    "id": "8cEtreOU7YMw"
   },
   "outputs": [],
   "source": [
    "dtrain = xgb.DMatrix(x_train, label=y_train)\n",
    "dtest = xgb.DMatrix(x_test, label=y_test)"
   ]
  },
  {
   "cell_type": "code",
   "execution_count": 50,
   "metadata": {
    "id": "bX2tQuW473FF"
   },
   "outputs": [],
   "source": [
    "param = {\n",
    "    'max_depth': 3,  # the maximum depth of each tree\n",
    "    'eta': 0.3,  # the training step for each iteration\n",
    "    'silent': 1,  # logging mode - quiet\n",
    "    'objective': 'multi:softprob',  # error evaluation for multiclass training\n",
    "    'num_class': 3}  # the number of classes that exist in this datset\n",
    "num_round = 20  # the number of training iterations"
   ]
  },
  {
   "cell_type": "code",
   "execution_count": 51,
   "metadata": {
    "id": "PUwzlMvr8DM3"
   },
   "outputs": [],
   "source": [
    "xgb_model = xgb.train(param, dtrain, num_round)"
   ]
  },
  {
   "cell_type": "code",
   "execution_count": 52,
   "metadata": {
    "colab": {
     "base_uri": "https://localhost:8080/"
    },
    "id": "dGC_Ripu8R9G",
    "outputId": "592392e7-149f-40d3-b368-65752bf84aa2"
   },
   "outputs": [
    {
     "data": {
      "text/plain": [
       "<xgboost.core.Booster at 0x7fde4d4355d0>"
      ]
     },
     "execution_count": 52,
     "metadata": {
      "tags": []
     },
     "output_type": "execute_result"
    }
   ],
   "source": [
    "xgb_model"
   ]
  },
  {
   "cell_type": "code",
   "execution_count": 53,
   "metadata": {
    "id": "jdGMKPwU8X-n"
   },
   "outputs": [],
   "source": [
    "preds = xgb_model.predict(dtest)"
   ]
  },
  {
   "cell_type": "code",
   "execution_count": 54,
   "metadata": {
    "colab": {
     "base_uri": "https://localhost:8080/"
    },
    "id": "P5Ul0OuA8X7m",
    "outputId": "48447866-94ae-44fb-9012-6da856315efe"
   },
   "outputs": [
    {
     "name": "stdout",
     "output_type": "stream",
     "text": [
      "              precision    recall  f1-score   support\n",
      "\n",
      "           0       0.78      0.82      0.80       698\n",
      "           1       0.75      0.70      0.72       537\n",
      "\n",
      "    accuracy                           0.77      1235\n",
      "   macro avg       0.76      0.76      0.76      1235\n",
      "weighted avg       0.77      0.77      0.77      1235\n",
      "\n",
      "AUC :  0.7594056975770092\n"
     ]
    }
   ],
   "source": [
    "best_preds = [np.argmax(line) for line in preds]\n",
    "print(classification_report(y_test, best_preds))\n",
    "print(\"AUC : \",roc_auc_score(y_test, best_preds))"
   ]
  },
  {
   "cell_type": "code",
   "execution_count": 55,
   "metadata": {
    "colab": {
     "base_uri": "https://localhost:8080/",
     "height": 295
    },
    "id": "O4TsrfEY8pvf",
    "outputId": "d1ce5258-eb4f-4574-dbaf-4d55c121249f"
   },
   "outputs": [
    {
     "data": {
      "image/png": "[encoded data removed]",
      "text/plain": [
       "<Figure size 432x288 with 1 Axes>"
      ]
     },
     "metadata": {
      "needs_background": "light",
      "tags": []
     },
     "output_type": "display_data"
    }
   ],
   "source": [
    "xgb.plot_importance(xgb_model)\n",
    "plt.rcParams['figure.figsize'] = [5, 5]\n",
    "plt.show()"
   ]
  },
  {
   "cell_type": "code",
   "execution_count": 55,
   "metadata": {
    "id": "ZxlbmetU9CyN"
   },
   "outputs": [],
   "source": []
  }
 ],
 "metadata": {
  "colab": {
   "name": "Compas_ML_model_fits.ipynb",
   "provenance": []
  },
  "kernelspec": {
   "display_name": "Python 3",
   "language": "python",
   "name": "python3"
  },
  "language_info": {
   "codemirror_mode": {
    "name": "ipython",
    "version": 3
   },
   "file_extension": ".py",
   "mimetype": "text/x-python",
   "name": "python",
   "nbconvert_exporter": "python",
   "pygments_lexer": "ipython3",
   "version": "3.8.3"
  }
 },
 "nbformat": 4,
 "nbformat_minor": 1
}
